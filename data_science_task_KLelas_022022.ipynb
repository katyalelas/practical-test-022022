{
 "cells": [
  {
   "cell_type": "code",
   "execution_count": 42,
   "metadata": {
    "id": "dPEN0ODxag-s"
   },
   "outputs": [],
   "source": [
    "import pandas as pd\n",
    "import numpy as np\n",
    "from matplotlib import pyplot as plt\n",
    "import seaborn as sns\n",
    "from mpl_toolkits.axes_grid1 import make_axes_locatable\n",
    "import os, sys\n",
    "from google.colab import drive\n",
    "from datetime import date, datetime\n",
    "import itertools\n",
    "from scipy.stats import chi2_contingency, chi2\n",
    "%matplotlib inline"
   ]
  },
  {
   "cell_type": "markdown",
   "metadata": {
    "id": "DL8TzV3Vag-t"
   },
   "source": [
    "### Importing the data set"
   ]
  },
  {
   "cell_type": "code",
   "execution_count": 43,
   "metadata": {
    "colab": {
     "base_uri": "https://localhost:8080/",
     "height": 389
    },
    "id": "ucUCI1KUbU9J",
    "outputId": "2d7d61da-9419-43c9-f0c4-67013b1505ee"
   },
   "outputs": [
    {
     "name": "stdout",
     "output_type": "stream",
     "text": [
      "Drive already mounted at /content/drive; to attempt to forcibly remount, call drive.mount(\"/content/drive\", force_remount=True).\n",
      "/content/drive/My Drive\n"
     ]
    },
    {
     "data": {
      "text/html": [
       "\n",
       "  <div id=\"df-c379ce23-97a5-4b7a-910d-82a4216bdb57\">\n",
       "    <div class=\"colab-df-container\">\n",
       "      <div>\n",
       "<style scoped>\n",
       "    .dataframe tbody tr th:only-of-type {\n",
       "        vertical-align: middle;\n",
       "    }\n",
       "\n",
       "    .dataframe tbody tr th {\n",
       "        vertical-align: top;\n",
       "    }\n",
       "\n",
       "    .dataframe thead th {\n",
       "        text-align: right;\n",
       "    }\n",
       "</style>\n",
       "<table border=\"1\" class=\"dataframe\">\n",
       "  <thead>\n",
       "    <tr style=\"text-align: right;\">\n",
       "      <th></th>\n",
       "      <th>Invoice</th>\n",
       "      <th>Sales Product</th>\n",
       "      <th>Stock Code</th>\n",
       "      <th>Alpha Code</th>\n",
       "      <th>Alpha Code.1</th>\n",
       "      <th>Quantity</th>\n",
       "      <th>Invoice Date</th>\n",
       "      <th>Price per Unit</th>\n",
       "      <th>Customer</th>\n",
       "      <th>Customer ID</th>\n",
       "      <th>Industry</th>\n",
       "      <th>Country</th>\n",
       "      <th>Unnamed: 12</th>\n",
       "      <th>Distributor</th>\n",
       "      <th>Operating Division</th>\n",
       "      <th>Unnamed: 15</th>\n",
       "      <th>Final Price</th>\n",
       "      <th>Invoice Month</th>\n",
       "      <th>Day of week</th>\n",
       "      <th>Invoice Datetime</th>\n",
       "    </tr>\n",
       "  </thead>\n",
       "  <tbody>\n",
       "    <tr>\n",
       "      <th>0</th>\n",
       "      <td>553503</td>\n",
       "      <td>NEOPOLEN P 9230 K BS</td>\n",
       "      <td>90214Y</td>\n",
       "      <td>NEOPOLEN P EX BSW</td>\n",
       "      <td>DLG</td>\n",
       "      <td>1</td>\n",
       "      <td>2011-05-17</td>\n",
       "      <td>0.83</td>\n",
       "      <td>SCHATTDECOR DO BRASI</td>\n",
       "      <td>14606</td>\n",
       "      <td>#</td>\n",
       "      <td>Romania</td>\n",
       "      <td>RO</td>\n",
       "      <td>Distributor no</td>\n",
       "      <td>PERFORMANCE MATERIAL</td>\n",
       "      <td>PM</td>\n",
       "      <td>0.83</td>\n",
       "      <td>May</td>\n",
       "      <td>Tuesday</td>\n",
       "      <td>2011-05-17 13:20:00</td>\n",
       "    </tr>\n",
       "    <tr>\n",
       "      <th>1</th>\n",
       "      <td>536591</td>\n",
       "      <td>NEOPOLEN P 9255 BSW</td>\n",
       "      <td>90214V</td>\n",
       "      <td>NEOPOLEN P EX BSW</td>\n",
       "      <td>DLG</td>\n",
       "      <td>1</td>\n",
       "      <td>2010-12-01</td>\n",
       "      <td>0.83</td>\n",
       "      <td>SCHATTDECOR DO BRASI</td>\n",
       "      <td>14606</td>\n",
       "      <td>#</td>\n",
       "      <td>Romania</td>\n",
       "      <td>RO</td>\n",
       "      <td>Distributor no</td>\n",
       "      <td>PERFORMANCE MATERIAL</td>\n",
       "      <td>PM</td>\n",
       "      <td>0.83</td>\n",
       "      <td>December</td>\n",
       "      <td>Wednesday</td>\n",
       "      <td>2010-12-01 16:57:00</td>\n",
       "    </tr>\n",
       "    <tr>\n",
       "      <th>2</th>\n",
       "      <td>556202</td>\n",
       "      <td>NEOPOLEN P 9255 BSW</td>\n",
       "      <td>90214V</td>\n",
       "      <td>NEOPOLEN P EX BSW</td>\n",
       "      <td>DLG</td>\n",
       "      <td>1</td>\n",
       "      <td>2011-06-09</td>\n",
       "      <td>0.83</td>\n",
       "      <td>SCHATTDECOR DO BRASI</td>\n",
       "      <td>14606</td>\n",
       "      <td>#</td>\n",
       "      <td>Romania</td>\n",
       "      <td>RO</td>\n",
       "      <td>Distributor no</td>\n",
       "      <td>PERFORMANCE MATERIAL</td>\n",
       "      <td>PM</td>\n",
       "      <td>0.83</td>\n",
       "      <td>June</td>\n",
       "      <td>Thursday</td>\n",
       "      <td>2011-06-09 13:08:00</td>\n",
       "    </tr>\n",
       "    <tr>\n",
       "      <th>3</th>\n",
       "      <td>536591</td>\n",
       "      <td>NEOPOLEN P 9225 K BS</td>\n",
       "      <td>90214S</td>\n",
       "      <td>NEOPOLEN P EX BSW</td>\n",
       "      <td>DLG</td>\n",
       "      <td>1</td>\n",
       "      <td>2010-12-01</td>\n",
       "      <td>0.83</td>\n",
       "      <td>SCHATTDECOR DO BRASI</td>\n",
       "      <td>14606</td>\n",
       "      <td>#</td>\n",
       "      <td>Romania</td>\n",
       "      <td>RO</td>\n",
       "      <td>Distributor no</td>\n",
       "      <td>PERFORMANCE MATERIAL</td>\n",
       "      <td>PM</td>\n",
       "      <td>0.83</td>\n",
       "      <td>December</td>\n",
       "      <td>Wednesday</td>\n",
       "      <td>2010-12-01 16:57:00</td>\n",
       "    </tr>\n",
       "    <tr>\n",
       "      <th>4</th>\n",
       "      <td>537765</td>\n",
       "      <td>NEOPOLEN P 9225 K BS</td>\n",
       "      <td>90214S</td>\n",
       "      <td>NEOPOLEN P EX BSW</td>\n",
       "      <td>DLG</td>\n",
       "      <td>2</td>\n",
       "      <td>2010-12-08</td>\n",
       "      <td>0.83</td>\n",
       "      <td>SCHATTDECOR DO BRASI</td>\n",
       "      <td>14606</td>\n",
       "      <td>#</td>\n",
       "      <td>Romania</td>\n",
       "      <td>RO</td>\n",
       "      <td>Distributor no</td>\n",
       "      <td>PERFORMANCE MATERIAL</td>\n",
       "      <td>PM</td>\n",
       "      <td>1.66</td>\n",
       "      <td>December</td>\n",
       "      <td>Wednesday</td>\n",
       "      <td>2010-12-08 12:08:00</td>\n",
       "    </tr>\n",
       "  </tbody>\n",
       "</table>\n",
       "</div>\n",
       "      <button class=\"colab-df-convert\" onclick=\"convertToInteractive('df-c379ce23-97a5-4b7a-910d-82a4216bdb57')\"\n",
       "              title=\"Convert this dataframe to an interactive table.\"\n",
       "              style=\"display:none;\">\n",
       "        \n",
       "  <svg xmlns=\"http://www.w3.org/2000/svg\" height=\"24px\"viewBox=\"0 0 24 24\"\n",
       "       width=\"24px\">\n",
       "    <path d=\"M0 0h24v24H0V0z\" fill=\"none\"/>\n",
       "    <path d=\"M18.56 5.44l.94 2.06.94-2.06 2.06-.94-2.06-.94-.94-2.06-.94 2.06-2.06.94zm-11 1L8.5 8.5l.94-2.06 2.06-.94-2.06-.94L8.5 2.5l-.94 2.06-2.06.94zm10 10l.94 2.06.94-2.06 2.06-.94-2.06-.94-.94-2.06-.94 2.06-2.06.94z\"/><path d=\"M17.41 7.96l-1.37-1.37c-.4-.4-.92-.59-1.43-.59-.52 0-1.04.2-1.43.59L10.3 9.45l-7.72 7.72c-.78.78-.78 2.05 0 2.83L4 21.41c.39.39.9.59 1.41.59.51 0 1.02-.2 1.41-.59l7.78-7.78 2.81-2.81c.8-.78.8-2.07 0-2.86zM5.41 20L4 18.59l7.72-7.72 1.47 1.35L5.41 20z\"/>\n",
       "  </svg>\n",
       "      </button>\n",
       "      \n",
       "  <style>\n",
       "    .colab-df-container {\n",
       "      display:flex;\n",
       "      flex-wrap:wrap;\n",
       "      gap: 12px;\n",
       "    }\n",
       "\n",
       "    .colab-df-convert {\n",
       "      background-color: #E8F0FE;\n",
       "      border: none;\n",
       "      border-radius: 50%;\n",
       "      cursor: pointer;\n",
       "      display: none;\n",
       "      fill: #1967D2;\n",
       "      height: 32px;\n",
       "      padding: 0 0 0 0;\n",
       "      width: 32px;\n",
       "    }\n",
       "\n",
       "    .colab-df-convert:hover {\n",
       "      background-color: #E2EBFA;\n",
       "      box-shadow: 0px 1px 2px rgba(60, 64, 67, 0.3), 0px 1px 3px 1px rgba(60, 64, 67, 0.15);\n",
       "      fill: #174EA6;\n",
       "    }\n",
       "\n",
       "    [theme=dark] .colab-df-convert {\n",
       "      background-color: #3B4455;\n",
       "      fill: #D2E3FC;\n",
       "    }\n",
       "\n",
       "    [theme=dark] .colab-df-convert:hover {\n",
       "      background-color: #434B5C;\n",
       "      box-shadow: 0px 1px 3px 1px rgba(0, 0, 0, 0.15);\n",
       "      filter: drop-shadow(0px 1px 2px rgba(0, 0, 0, 0.3));\n",
       "      fill: #FFFFFF;\n",
       "    }\n",
       "  </style>\n",
       "\n",
       "      <script>\n",
       "        const buttonEl =\n",
       "          document.querySelector('#df-c379ce23-97a5-4b7a-910d-82a4216bdb57 button.colab-df-convert');\n",
       "        buttonEl.style.display =\n",
       "          google.colab.kernel.accessAllowed ? 'block' : 'none';\n",
       "\n",
       "        async function convertToInteractive(key) {\n",
       "          const element = document.querySelector('#df-c379ce23-97a5-4b7a-910d-82a4216bdb57');\n",
       "          const dataTable =\n",
       "            await google.colab.kernel.invokeFunction('convertToInteractive',\n",
       "                                                     [key], {});\n",
       "          if (!dataTable) return;\n",
       "\n",
       "          const docLinkHtml = 'Like what you see? Visit the ' +\n",
       "            '<a target=\"_blank\" href=https://colab.research.google.com/notebooks/data_table.ipynb>data table notebook</a>'\n",
       "            + ' to learn more about interactive tables.';\n",
       "          element.innerHTML = '';\n",
       "          dataTable['output_type'] = 'display_data';\n",
       "          await google.colab.output.renderOutput(dataTable, element);\n",
       "          const docLink = document.createElement('div');\n",
       "          docLink.innerHTML = docLinkHtml;\n",
       "          element.appendChild(docLink);\n",
       "        }\n",
       "      </script>\n",
       "    </div>\n",
       "  </div>\n",
       "  "
      ],
      "text/plain": [
       "   Invoice         Sales Product  ... Day of week     Invoice Datetime\n",
       "0   553503  NEOPOLEN P 9230 K BS  ...     Tuesday  2011-05-17 13:20:00\n",
       "1   536591   NEOPOLEN P 9255 BSW  ...   Wednesday  2010-12-01 16:57:00\n",
       "2   556202   NEOPOLEN P 9255 BSW  ...    Thursday  2011-06-09 13:08:00\n",
       "3   536591  NEOPOLEN P 9225 K BS  ...   Wednesday  2010-12-01 16:57:00\n",
       "4   537765  NEOPOLEN P 9225 K BS  ...   Wednesday  2010-12-08 12:08:00\n",
       "\n",
       "[5 rows x 20 columns]"
      ]
     },
     "execution_count": 43,
     "metadata": {},
     "output_type": "execute_result"
    }
   ],
   "source": [
    "drive.mount('/content/drive')\n",
    "%cd /content/drive/My\\ Drive\n",
    "df=pd.read_csv('dataset_csv.csv', low_memory=False)\n",
    "df=df.iloc[:,1:]\n",
    "df.head()"
   ]
  },
  {
   "cell_type": "markdown",
   "metadata": {
    "id": "JJl71B9gag-y"
   },
   "source": [
    "### Data quality analysis \n",
    "•\tMissing values\n",
    "•\tExtremes\n",
    "•\tDistribution of each variable\n"
   ]
  },
  {
   "cell_type": "code",
   "execution_count": 55,
   "metadata": {
    "colab": {
     "base_uri": "https://localhost:8080/"
    },
    "id": "z6taJaGxag-w",
    "outputId": "afd64620-3603-4b6f-f06e-96855afe743f"
   },
   "outputs": [
    {
     "data": {
      "text/plain": [
       "Invoice                string\n",
       "Sales Product          object\n",
       "Stock Code             object\n",
       "Alpha Code             object\n",
       "Alpha Code.1           object\n",
       "Quantity                int64\n",
       "Invoice Date           object\n",
       "Price per Unit        float64\n",
       "Customer               object\n",
       "Customer ID            string\n",
       "Industry               object\n",
       "Country                object\n",
       "Unnamed: 12            object\n",
       "Distributor            object\n",
       "Operating Division     object\n",
       "Unnamed: 15            object\n",
       "Final Price           float64\n",
       "Invoice Month          string\n",
       "Day of week            string\n",
       "dtype: object"
      ]
     },
     "execution_count": 55,
     "metadata": {},
     "output_type": "execute_result"
    }
   ],
   "source": [
    "df.dtypes"
   ]
  },
  {
   "cell_type": "code",
   "execution_count": 57,
   "metadata": {
    "id": "lFB9HjM1eC8v"
   },
   "outputs": [],
   "source": [
    "df['Invoice']=df['Invoice'].astype('string')\n",
    "df['Customer ID']=df['Customer ID'].astype('string')\n",
    "df['Invoice Month']=df['Invoice Month'].astype('string')\n",
    "df['Day of week']=df['Day of week'].astype('string')\n",
    "month_number=[]\n",
    "for m in df['Invoice Month'].values:\n",
    "  month_number.append(datetime.strptime(m, \"%B\").month)\n",
    "df['Invoice Month']=month_number\n",
    "df['Invoice Date']=pd.to_datetime(df['Invoice Date'])\n",
    "df['Month_Year'] = df['Invoice Date'].dt.to_period('M')"
   ]
  },
  {
   "cell_type": "code",
   "execution_count": 58,
   "metadata": {
    "colab": {
     "base_uri": "https://localhost:8080/"
    },
    "id": "6LaldSVddSWu",
    "outputId": "2ff28ef0-44b7-4c5f-e0e4-61504ce45807"
   },
   "outputs": [
    {
     "name": "stdout",
     "output_type": "stream",
     "text": [
      "(203891, 20)\n",
      "(201626, 20)\n"
     ]
    }
   ],
   "source": [
    "#Duplicates\n",
    "print(df.shape)\n",
    "df.drop_duplicates(inplace=True)\n",
    "print(df.shape)"
   ]
  },
  {
   "cell_type": "code",
   "execution_count": 59,
   "metadata": {
    "colab": {
     "base_uri": "https://localhost:8080/"
    },
    "id": "A56rWdvnag-z",
    "outputId": "67e5b65b-7062-4df1-ac2a-cbd798297a59"
   },
   "outputs": [
    {
     "data": {
      "text/plain": [
       "0"
      ]
     },
     "execution_count": 59,
     "metadata": {},
     "output_type": "execute_result"
    }
   ],
   "source": [
    "#Missing values\n",
    "df.isnull().sum().sum()"
   ]
  },
  {
   "cell_type": "code",
   "execution_count": 60,
   "metadata": {
    "colab": {
     "base_uri": "https://localhost:8080/",
     "height": 299
    },
    "id": "wVTddzswCYp_",
    "outputId": "49e48f20-5103-4c38-f249-754313df4d3d"
   },
   "outputs": [
    {
     "data": {
      "text/html": [
       "\n",
       "  <div id=\"df-9cc9bf8b-365c-423f-a5d7-fb4da808d7f9\">\n",
       "    <div class=\"colab-df-container\">\n",
       "      <div>\n",
       "<style scoped>\n",
       "    .dataframe tbody tr th:only-of-type {\n",
       "        vertical-align: middle;\n",
       "    }\n",
       "\n",
       "    .dataframe tbody tr th {\n",
       "        vertical-align: top;\n",
       "    }\n",
       "\n",
       "    .dataframe thead th {\n",
       "        text-align: right;\n",
       "    }\n",
       "</style>\n",
       "<table border=\"1\" class=\"dataframe\">\n",
       "  <thead>\n",
       "    <tr style=\"text-align: right;\">\n",
       "      <th></th>\n",
       "      <th>Quantity</th>\n",
       "      <th>Price per Unit</th>\n",
       "      <th>Final Price</th>\n",
       "      <th>Invoice Month</th>\n",
       "    </tr>\n",
       "  </thead>\n",
       "  <tbody>\n",
       "    <tr>\n",
       "      <th>count</th>\n",
       "      <td>201626</td>\n",
       "      <td>201626</td>\n",
       "      <td>201626</td>\n",
       "      <td>201626</td>\n",
       "    </tr>\n",
       "    <tr>\n",
       "      <th>mean</th>\n",
       "      <td>12</td>\n",
       "      <td>2</td>\n",
       "      <td>23</td>\n",
       "      <td>5</td>\n",
       "    </tr>\n",
       "    <tr>\n",
       "      <th>std</th>\n",
       "      <td>32</td>\n",
       "      <td>2</td>\n",
       "      <td>78</td>\n",
       "      <td>3</td>\n",
       "    </tr>\n",
       "    <tr>\n",
       "      <th>min</th>\n",
       "      <td>1</td>\n",
       "      <td>0</td>\n",
       "      <td>0</td>\n",
       "      <td>1</td>\n",
       "    </tr>\n",
       "    <tr>\n",
       "      <th>25%</th>\n",
       "      <td>2</td>\n",
       "      <td>1</td>\n",
       "      <td>5</td>\n",
       "      <td>3</td>\n",
       "    </tr>\n",
       "    <tr>\n",
       "      <th>50%</th>\n",
       "      <td>6</td>\n",
       "      <td>1</td>\n",
       "      <td>12</td>\n",
       "      <td>5</td>\n",
       "    </tr>\n",
       "    <tr>\n",
       "      <th>75%</th>\n",
       "      <td>12</td>\n",
       "      <td>3</td>\n",
       "      <td>19</td>\n",
       "      <td>7</td>\n",
       "    </tr>\n",
       "    <tr>\n",
       "      <th>max</th>\n",
       "      <td>1056</td>\n",
       "      <td>16</td>\n",
       "      <td>5970</td>\n",
       "      <td>12</td>\n",
       "    </tr>\n",
       "  </tbody>\n",
       "</table>\n",
       "</div>\n",
       "      <button class=\"colab-df-convert\" onclick=\"convertToInteractive('df-9cc9bf8b-365c-423f-a5d7-fb4da808d7f9')\"\n",
       "              title=\"Convert this dataframe to an interactive table.\"\n",
       "              style=\"display:none;\">\n",
       "        \n",
       "  <svg xmlns=\"http://www.w3.org/2000/svg\" height=\"24px\"viewBox=\"0 0 24 24\"\n",
       "       width=\"24px\">\n",
       "    <path d=\"M0 0h24v24H0V0z\" fill=\"none\"/>\n",
       "    <path d=\"M18.56 5.44l.94 2.06.94-2.06 2.06-.94-2.06-.94-.94-2.06-.94 2.06-2.06.94zm-11 1L8.5 8.5l.94-2.06 2.06-.94-2.06-.94L8.5 2.5l-.94 2.06-2.06.94zm10 10l.94 2.06.94-2.06 2.06-.94-2.06-.94-.94-2.06-.94 2.06-2.06.94z\"/><path d=\"M17.41 7.96l-1.37-1.37c-.4-.4-.92-.59-1.43-.59-.52 0-1.04.2-1.43.59L10.3 9.45l-7.72 7.72c-.78.78-.78 2.05 0 2.83L4 21.41c.39.39.9.59 1.41.59.51 0 1.02-.2 1.41-.59l7.78-7.78 2.81-2.81c.8-.78.8-2.07 0-2.86zM5.41 20L4 18.59l7.72-7.72 1.47 1.35L5.41 20z\"/>\n",
       "  </svg>\n",
       "      </button>\n",
       "      \n",
       "  <style>\n",
       "    .colab-df-container {\n",
       "      display:flex;\n",
       "      flex-wrap:wrap;\n",
       "      gap: 12px;\n",
       "    }\n",
       "\n",
       "    .colab-df-convert {\n",
       "      background-color: #E8F0FE;\n",
       "      border: none;\n",
       "      border-radius: 50%;\n",
       "      cursor: pointer;\n",
       "      display: none;\n",
       "      fill: #1967D2;\n",
       "      height: 32px;\n",
       "      padding: 0 0 0 0;\n",
       "      width: 32px;\n",
       "    }\n",
       "\n",
       "    .colab-df-convert:hover {\n",
       "      background-color: #E2EBFA;\n",
       "      box-shadow: 0px 1px 2px rgba(60, 64, 67, 0.3), 0px 1px 3px 1px rgba(60, 64, 67, 0.15);\n",
       "      fill: #174EA6;\n",
       "    }\n",
       "\n",
       "    [theme=dark] .colab-df-convert {\n",
       "      background-color: #3B4455;\n",
       "      fill: #D2E3FC;\n",
       "    }\n",
       "\n",
       "    [theme=dark] .colab-df-convert:hover {\n",
       "      background-color: #434B5C;\n",
       "      box-shadow: 0px 1px 3px 1px rgba(0, 0, 0, 0.15);\n",
       "      filter: drop-shadow(0px 1px 2px rgba(0, 0, 0, 0.3));\n",
       "      fill: #FFFFFF;\n",
       "    }\n",
       "  </style>\n",
       "\n",
       "      <script>\n",
       "        const buttonEl =\n",
       "          document.querySelector('#df-9cc9bf8b-365c-423f-a5d7-fb4da808d7f9 button.colab-df-convert');\n",
       "        buttonEl.style.display =\n",
       "          google.colab.kernel.accessAllowed ? 'block' : 'none';\n",
       "\n",
       "        async function convertToInteractive(key) {\n",
       "          const element = document.querySelector('#df-9cc9bf8b-365c-423f-a5d7-fb4da808d7f9');\n",
       "          const dataTable =\n",
       "            await google.colab.kernel.invokeFunction('convertToInteractive',\n",
       "                                                     [key], {});\n",
       "          if (!dataTable) return;\n",
       "\n",
       "          const docLinkHtml = 'Like what you see? Visit the ' +\n",
       "            '<a target=\"_blank\" href=https://colab.research.google.com/notebooks/data_table.ipynb>data table notebook</a>'\n",
       "            + ' to learn more about interactive tables.';\n",
       "          element.innerHTML = '';\n",
       "          dataTable['output_type'] = 'display_data';\n",
       "          await google.colab.output.renderOutput(dataTable, element);\n",
       "          const docLink = document.createElement('div');\n",
       "          docLink.innerHTML = docLinkHtml;\n",
       "          element.appendChild(docLink);\n",
       "        }\n",
       "      </script>\n",
       "    </div>\n",
       "  </div>\n",
       "  "
      ],
      "text/plain": [
       "       Quantity  Price per Unit  Final Price  Invoice Month\n",
       "count    201626          201626       201626         201626\n",
       "mean         12               2           23              5\n",
       "std          32               2           78              3\n",
       "min           1               0            0              1\n",
       "25%           2               1            5              3\n",
       "50%           6               1           12              5\n",
       "75%          12               3           19              7\n",
       "max        1056              16         5970             12"
      ]
     },
     "execution_count": 60,
     "metadata": {},
     "output_type": "execute_result"
    }
   ],
   "source": [
    "#Distribution of each continuous variable\n",
    "j=df.describe()\n",
    "for i in j.columns:\n",
    "  j[i]=j[i].astype(int)\n",
    "j"
   ]
  },
  {
   "cell_type": "code",
   "execution_count": 61,
   "metadata": {
    "id": "b9zqo2Zxag-x"
   },
   "outputs": [],
   "source": [
    "numerical=df.select_dtypes(include=['number'])\n",
    "categorical=df.select_dtypes(include=['object'])"
   ]
  },
  {
   "cell_type": "code",
   "execution_count": 64,
   "metadata": {
    "colab": {
     "base_uri": "https://localhost:8080/",
     "height": 174
    },
    "id": "19RHELAOag-0",
    "outputId": "35485e84-dd72-4f62-ba13-c5b2321ff8e3"
   },
   "outputs": [
    {
     "data": {
      "text/html": [
       "\n",
       "  <div id=\"df-c6fc2779-bea1-4d3a-842a-99023ab5817d\">\n",
       "    <div class=\"colab-df-container\">\n",
       "      <div>\n",
       "<style scoped>\n",
       "    .dataframe tbody tr th:only-of-type {\n",
       "        vertical-align: middle;\n",
       "    }\n",
       "\n",
       "    .dataframe tbody tr th {\n",
       "        vertical-align: top;\n",
       "    }\n",
       "\n",
       "    .dataframe thead th {\n",
       "        text-align: right;\n",
       "    }\n",
       "</style>\n",
       "<table border=\"1\" class=\"dataframe\">\n",
       "  <thead>\n",
       "    <tr style=\"text-align: right;\">\n",
       "      <th></th>\n",
       "      <th>Varianton range</th>\n",
       "      <th>IQR</th>\n",
       "      <th>Standard deviation</th>\n",
       "      <th>Variance</th>\n",
       "      <th>Mean</th>\n",
       "      <th>Variation coefficient</th>\n",
       "    </tr>\n",
       "  </thead>\n",
       "  <tbody>\n",
       "    <tr>\n",
       "      <th>Quantity</th>\n",
       "      <td>1055.00</td>\n",
       "      <td>10.00</td>\n",
       "      <td>32.989617</td>\n",
       "      <td>1088.314797</td>\n",
       "      <td>12.694117</td>\n",
       "      <td>259.881</td>\n",
       "    </tr>\n",
       "    <tr>\n",
       "      <th>Price per Unit</th>\n",
       "      <td>16.91</td>\n",
       "      <td>2.50</td>\n",
       "      <td>2.832023</td>\n",
       "      <td>8.020352</td>\n",
       "      <td>2.911526</td>\n",
       "      <td>97.269</td>\n",
       "    </tr>\n",
       "    <tr>\n",
       "      <th>Final Price</th>\n",
       "      <td>5969.90</td>\n",
       "      <td>14.76</td>\n",
       "      <td>78.194771</td>\n",
       "      <td>6114.422150</td>\n",
       "      <td>23.820021</td>\n",
       "      <td>328.273</td>\n",
       "    </tr>\n",
       "    <tr>\n",
       "      <th>Invoice Month</th>\n",
       "      <td>11.00</td>\n",
       "      <td>4.00</td>\n",
       "      <td>3.192248</td>\n",
       "      <td>10.190446</td>\n",
       "      <td>5.284244</td>\n",
       "      <td>60.411</td>\n",
       "    </tr>\n",
       "  </tbody>\n",
       "</table>\n",
       "</div>\n",
       "      <button class=\"colab-df-convert\" onclick=\"convertToInteractive('df-c6fc2779-bea1-4d3a-842a-99023ab5817d')\"\n",
       "              title=\"Convert this dataframe to an interactive table.\"\n",
       "              style=\"display:none;\">\n",
       "        \n",
       "  <svg xmlns=\"http://www.w3.org/2000/svg\" height=\"24px\"viewBox=\"0 0 24 24\"\n",
       "       width=\"24px\">\n",
       "    <path d=\"M0 0h24v24H0V0z\" fill=\"none\"/>\n",
       "    <path d=\"M18.56 5.44l.94 2.06.94-2.06 2.06-.94-2.06-.94-.94-2.06-.94 2.06-2.06.94zm-11 1L8.5 8.5l.94-2.06 2.06-.94-2.06-.94L8.5 2.5l-.94 2.06-2.06.94zm10 10l.94 2.06.94-2.06 2.06-.94-2.06-.94-.94-2.06-.94 2.06-2.06.94z\"/><path d=\"M17.41 7.96l-1.37-1.37c-.4-.4-.92-.59-1.43-.59-.52 0-1.04.2-1.43.59L10.3 9.45l-7.72 7.72c-.78.78-.78 2.05 0 2.83L4 21.41c.39.39.9.59 1.41.59.51 0 1.02-.2 1.41-.59l7.78-7.78 2.81-2.81c.8-.78.8-2.07 0-2.86zM5.41 20L4 18.59l7.72-7.72 1.47 1.35L5.41 20z\"/>\n",
       "  </svg>\n",
       "      </button>\n",
       "      \n",
       "  <style>\n",
       "    .colab-df-container {\n",
       "      display:flex;\n",
       "      flex-wrap:wrap;\n",
       "      gap: 12px;\n",
       "    }\n",
       "\n",
       "    .colab-df-convert {\n",
       "      background-color: #E8F0FE;\n",
       "      border: none;\n",
       "      border-radius: 50%;\n",
       "      cursor: pointer;\n",
       "      display: none;\n",
       "      fill: #1967D2;\n",
       "      height: 32px;\n",
       "      padding: 0 0 0 0;\n",
       "      width: 32px;\n",
       "    }\n",
       "\n",
       "    .colab-df-convert:hover {\n",
       "      background-color: #E2EBFA;\n",
       "      box-shadow: 0px 1px 2px rgba(60, 64, 67, 0.3), 0px 1px 3px 1px rgba(60, 64, 67, 0.15);\n",
       "      fill: #174EA6;\n",
       "    }\n",
       "\n",
       "    [theme=dark] .colab-df-convert {\n",
       "      background-color: #3B4455;\n",
       "      fill: #D2E3FC;\n",
       "    }\n",
       "\n",
       "    [theme=dark] .colab-df-convert:hover {\n",
       "      background-color: #434B5C;\n",
       "      box-shadow: 0px 1px 3px 1px rgba(0, 0, 0, 0.15);\n",
       "      filter: drop-shadow(0px 1px 2px rgba(0, 0, 0, 0.3));\n",
       "      fill: #FFFFFF;\n",
       "    }\n",
       "  </style>\n",
       "\n",
       "      <script>\n",
       "        const buttonEl =\n",
       "          document.querySelector('#df-c6fc2779-bea1-4d3a-842a-99023ab5817d button.colab-df-convert');\n",
       "        buttonEl.style.display =\n",
       "          google.colab.kernel.accessAllowed ? 'block' : 'none';\n",
       "\n",
       "        async function convertToInteractive(key) {\n",
       "          const element = document.querySelector('#df-c6fc2779-bea1-4d3a-842a-99023ab5817d');\n",
       "          const dataTable =\n",
       "            await google.colab.kernel.invokeFunction('convertToInteractive',\n",
       "                                                     [key], {});\n",
       "          if (!dataTable) return;\n",
       "\n",
       "          const docLinkHtml = 'Like what you see? Visit the ' +\n",
       "            '<a target=\"_blank\" href=https://colab.research.google.com/notebooks/data_table.ipynb>data table notebook</a>'\n",
       "            + ' to learn more about interactive tables.';\n",
       "          element.innerHTML = '';\n",
       "          dataTable['output_type'] = 'display_data';\n",
       "          await google.colab.output.renderOutput(dataTable, element);\n",
       "          const docLink = document.createElement('div');\n",
       "          docLink.innerHTML = docLinkHtml;\n",
       "          element.appendChild(docLink);\n",
       "        }\n",
       "      </script>\n",
       "    </div>\n",
       "  </div>\n",
       "  "
      ],
      "text/plain": [
       "                Varianton range    IQR  ...       Mean  Variation coefficient\n",
       "Quantity                1055.00  10.00  ...  12.694117                259.881\n",
       "Price per Unit            16.91   2.50  ...   2.911526                 97.269\n",
       "Final Price             5969.90  14.76  ...  23.820021                328.273\n",
       "Invoice Month             11.00   4.00  ...   5.284244                 60.411\n",
       "\n",
       "[4 rows x 6 columns]"
      ]
     },
     "execution_count": 64,
     "metadata": {},
     "output_type": "execute_result"
    }
   ],
   "source": [
    "var_range=[]\n",
    "IQR=[]\n",
    "var_coef=[]\n",
    "std=[]\n",
    "var=[]\n",
    "mean=[]\n",
    "\n",
    "for i in range(numerical.shape[1]):\n",
    "    var_range.append(numerical.iloc[:,i].max()-numerical.iloc[:,i].min())\n",
    "\n",
    "for i in range(numerical.shape[1]):\n",
    "    IQR.append(numerical.iloc[:,i].quantile(0.75)-numerical.iloc[:,i].quantile(0.25))\n",
    "    \n",
    "for i in range(numerical.shape[1]):\n",
    "    std.append(numerical.iloc[:,i].std())\n",
    "\n",
    "for i in range(numerical.shape[1]):\n",
    "    var.append(numerical.iloc[:,i].var())\n",
    "    \n",
    "for i in range(numerical.shape[1]):\n",
    "    mean.append(numerical.iloc[:,i].mean())\n",
    "\n",
    "for i in range(numerical.shape[1]):\n",
    "    var_coef.append(round(numerical.iloc[:,i].std()/numerical.iloc[:,i].mean()*100,3))\n",
    "\n",
    "data={\n",
    "    'Varianton range' : var_range,\n",
    "     'IQR' : IQR,\n",
    "    'Standard deviation' : std,\n",
    "    'Variance' : var,\n",
    "    'Mean' : mean,\n",
    "    'Variation coefficient' : var_coef\n",
    "}\n",
    "index=list(numerical.columns)\n",
    "\n",
    "Statistical_dispersion=pd.DataFrame(data=data, index=index)\n",
    "Statistical_dispersion"
   ]
  },
  {
   "cell_type": "code",
   "execution_count": 65,
   "metadata": {
    "colab": {
     "base_uri": "https://localhost:8080/",
     "height": 517
    },
    "id": "v5beyiryag-0",
    "outputId": "7e31238c-8ace-445b-f768-ce5ef9195c1a",
    "scrolled": true
   },
   "outputs": [
    {
     "data": {
      "text/plain": [
       "<matplotlib.axes._subplots.AxesSubplot at 0x7fea4b1fb9d0>"
      ]
     },
     "execution_count": 65,
     "metadata": {},
     "output_type": "execute_result"
    },
    {
     "data": {
      "image/png": "[encoded data removed]",
      "text/plain": [
       "<Figure size 842.4x595.44 with 1 Axes>"
      ]
     },
     "metadata": {},
     "output_type": "display_data"
    }
   ],
   "source": [
    "#Outliers\n",
    "sns.set(rc={'figure.figsize':(11.7,8.27)})\n",
    "sns.boxplot(data=df, orient=\"h\")"
   ]
  },
  {
   "cell_type": "code",
   "execution_count": 66,
   "metadata": {
    "id": "V25O04M6tXcr"
   },
   "outputs": [],
   "source": [
    "cat=categorical.drop_duplicates()"
   ]
  },
  {
   "cell_type": "code",
   "execution_count": null,
   "metadata": {
    "id": "cAGih-8WtdMW"
   },
   "outputs": [],
   "source": [
    "# Frequency\n",
    "for i in range(cat.shape[1]):\n",
    "    print(cat.iloc[:,i].value_counts(normalize=True))\n",
    "    print()"
   ]
  },
  {
   "cell_type": "code",
   "execution_count": 67,
   "metadata": {
    "colab": {
     "base_uri": "https://localhost:8080/",
     "height": 579
    },
    "id": "-z6ZfWxXuV25",
    "outputId": "97802bb9-4d18-4bcc-ee2c-700ce4acaded"
   },
   "outputs": [
    {
     "data": {
      "text/plain": [
       "Text(0.5, 0, 'ratio of a category')"
      ]
     },
     "execution_count": 67,
     "metadata": {},
     "output_type": "execute_result"
    },
    {
     "data": {
      "image/png": "[encoded data removed]",
      "text/plain": [
       "<Figure size 842.4x595.44 with 1 Axes>"
      ]
     },
     "metadata": {},
     "output_type": "display_data"
    }
   ],
   "source": [
    "plt.style.use('fivethirtyeight')\n",
    "cat['Industry'].value_counts(normalize=True).plot(kind='barh')\n",
    "plt.title('Industry - distribution of unique categories', color='maroon')\n",
    "plt.xlabel('ratio of a category', fontsize=10) "
   ]
  },
  {
   "cell_type": "code",
   "execution_count": 68,
   "metadata": {
    "colab": {
     "base_uri": "https://localhost:8080/",
     "height": 579
    },
    "id": "Kk-OLLY_ag-2",
    "outputId": "53ffa27f-2b1b-4b87-86c8-f3af685b137d"
   },
   "outputs": [
    {
     "data": {
      "text/plain": [
       "Text(0.5, 0, 'ratio of a category')"
      ]
     },
     "execution_count": 68,
     "metadata": {},
     "output_type": "execute_result"
    },
    {
     "data": {
      "image/png": "[encoded data removed]",
      "text/plain": [
       "<Figure size 842.4x595.44 with 1 Axes>"
      ]
     },
     "metadata": {},
     "output_type": "display_data"
    }
   ],
   "source": [
    "cat['Operating Division'].value_counts(normalize=True).plot(kind='barh')\n",
    "plt.title('Operating Division - distribution of unique categories', color='maroon')\n",
    "plt.xlabel('ratio of a category', fontsize=10) "
   ]
  },
  {
   "cell_type": "code",
   "execution_count": 69,
   "metadata": {
    "colab": {
     "base_uri": "https://localhost:8080/",
     "height": 579
    },
    "id": "_DoiqkRxG5Xe",
    "outputId": "ef839292-87ef-4a06-d538-b0b7d1845b25"
   },
   "outputs": [
    {
     "data": {
      "text/plain": [
       "Text(0.5, 0, 'ratio of a category')"
      ]
     },
     "execution_count": 69,
     "metadata": {},
     "output_type": "execute_result"
    },
    {
     "data": {
      "image/png": "[encoded data removed]",
      "text/plain": [
       "<Figure size 842.4x595.44 with 1 Axes>"
      ]
     },
     "metadata": {},
     "output_type": "display_data"
    }
   ],
   "source": [
    "cat['Country'].value_counts(normalize=True)[:10].plot(kind='barh')\n",
    "plt.title('Country')\n",
    "plt.title('Country - distribution of unique categories', color='maroon')\n",
    "plt.xlabel('ratio of a category', fontsize=10) "
   ]
  },
  {
   "cell_type": "code",
   "execution_count": 70,
   "metadata": {
    "colab": {
     "base_uri": "https://localhost:8080/",
     "height": 579
    },
    "id": "kB6UlOpJuLr5",
    "outputId": "4cdf7b6c-4bca-4694-f14a-6d2457012a68"
   },
   "outputs": [
    {
     "data": {
      "text/plain": [
       "Text(0.5, 0, 'ratio of a category')"
      ]
     },
     "execution_count": 70,
     "metadata": {},
     "output_type": "execute_result"
    },
    {
     "data": {
      "image/png": "[encoded data removed]",
      "text/plain": [
       "<Figure size 842.4x595.44 with 1 Axes>"
      ]
     },
     "metadata": {},
     "output_type": "display_data"
    }
   ],
   "source": [
    "cat['Distributor'].value_counts(normalize=True).plot(kind='barh')\n",
    "plt.title('Distributor')\n",
    "plt.title('Distiributor - distribution of unique categories', color='maroon')\n",
    "plt.xlabel('ratio of a category', fontsize=10) "
   ]
  },
  {
   "cell_type": "code",
   "execution_count": 71,
   "metadata": {
    "colab": {
     "base_uri": "https://localhost:8080/",
     "height": 174
    },
    "id": "aTBa46XpjMh9",
    "outputId": "a5102eab-79ed-4895-b59a-51d3a037794b"
   },
   "outputs": [
    {
     "data": {
      "text/html": [
       "\n",
       "  <div id=\"df-a83f6416-e018-417d-85e6-9b1566af9309\">\n",
       "    <div class=\"colab-df-container\">\n",
       "      <div>\n",
       "<style scoped>\n",
       "    .dataframe tbody tr th:only-of-type {\n",
       "        vertical-align: middle;\n",
       "    }\n",
       "\n",
       "    .dataframe tbody tr th {\n",
       "        vertical-align: top;\n",
       "    }\n",
       "\n",
       "    .dataframe thead th {\n",
       "        text-align: right;\n",
       "    }\n",
       "</style>\n",
       "<table border=\"1\" class=\"dataframe\">\n",
       "  <thead>\n",
       "    <tr style=\"text-align: right;\">\n",
       "      <th></th>\n",
       "      <th>Quantity</th>\n",
       "      <th>Price per Unit</th>\n",
       "      <th>Final Price</th>\n",
       "      <th>Invoice Month</th>\n",
       "    </tr>\n",
       "  </thead>\n",
       "  <tbody>\n",
       "    <tr>\n",
       "      <th>Quantity</th>\n",
       "      <td>1.000000</td>\n",
       "      <td>-0.140637</td>\n",
       "      <td>0.631761</td>\n",
       "      <td>-0.005141</td>\n",
       "    </tr>\n",
       "    <tr>\n",
       "      <th>Price per Unit</th>\n",
       "      <td>-0.140637</td>\n",
       "      <td>1.000000</td>\n",
       "      <td>0.113377</td>\n",
       "      <td>-0.006360</td>\n",
       "    </tr>\n",
       "    <tr>\n",
       "      <th>Final Price</th>\n",
       "      <td>0.631761</td>\n",
       "      <td>0.113377</td>\n",
       "      <td>1.000000</td>\n",
       "      <td>0.002093</td>\n",
       "    </tr>\n",
       "    <tr>\n",
       "      <th>Invoice Month</th>\n",
       "      <td>-0.005141</td>\n",
       "      <td>-0.006360</td>\n",
       "      <td>0.002093</td>\n",
       "      <td>1.000000</td>\n",
       "    </tr>\n",
       "  </tbody>\n",
       "</table>\n",
       "</div>\n",
       "      <button class=\"colab-df-convert\" onclick=\"convertToInteractive('df-a83f6416-e018-417d-85e6-9b1566af9309')\"\n",
       "              title=\"Convert this dataframe to an interactive table.\"\n",
       "              style=\"display:none;\">\n",
       "        \n",
       "  <svg xmlns=\"http://www.w3.org/2000/svg\" height=\"24px\"viewBox=\"0 0 24 24\"\n",
       "       width=\"24px\">\n",
       "    <path d=\"M0 0h24v24H0V0z\" fill=\"none\"/>\n",
       "    <path d=\"M18.56 5.44l.94 2.06.94-2.06 2.06-.94-2.06-.94-.94-2.06-.94 2.06-2.06.94zm-11 1L8.5 8.5l.94-2.06 2.06-.94-2.06-.94L8.5 2.5l-.94 2.06-2.06.94zm10 10l.94 2.06.94-2.06 2.06-.94-2.06-.94-.94-2.06-.94 2.06-2.06.94z\"/><path d=\"M17.41 7.96l-1.37-1.37c-.4-.4-.92-.59-1.43-.59-.52 0-1.04.2-1.43.59L10.3 9.45l-7.72 7.72c-.78.78-.78 2.05 0 2.83L4 21.41c.39.39.9.59 1.41.59.51 0 1.02-.2 1.41-.59l7.78-7.78 2.81-2.81c.8-.78.8-2.07 0-2.86zM5.41 20L4 18.59l7.72-7.72 1.47 1.35L5.41 20z\"/>\n",
       "  </svg>\n",
       "      </button>\n",
       "      \n",
       "  <style>\n",
       "    .colab-df-container {\n",
       "      display:flex;\n",
       "      flex-wrap:wrap;\n",
       "      gap: 12px;\n",
       "    }\n",
       "\n",
       "    .colab-df-convert {\n",
       "      background-color: #E8F0FE;\n",
       "      border: none;\n",
       "      border-radius: 50%;\n",
       "      cursor: pointer;\n",
       "      display: none;\n",
       "      fill: #1967D2;\n",
       "      height: 32px;\n",
       "      padding: 0 0 0 0;\n",
       "      width: 32px;\n",
       "    }\n",
       "\n",
       "    .colab-df-convert:hover {\n",
       "      background-color: #E2EBFA;\n",
       "      box-shadow: 0px 1px 2px rgba(60, 64, 67, 0.3), 0px 1px 3px 1px rgba(60, 64, 67, 0.15);\n",
       "      fill: #174EA6;\n",
       "    }\n",
       "\n",
       "    [theme=dark] .colab-df-convert {\n",
       "      background-color: #3B4455;\n",
       "      fill: #D2E3FC;\n",
       "    }\n",
       "\n",
       "    [theme=dark] .colab-df-convert:hover {\n",
       "      background-color: #434B5C;\n",
       "      box-shadow: 0px 1px 3px 1px rgba(0, 0, 0, 0.15);\n",
       "      filter: drop-shadow(0px 1px 2px rgba(0, 0, 0, 0.3));\n",
       "      fill: #FFFFFF;\n",
       "    }\n",
       "  </style>\n",
       "\n",
       "      <script>\n",
       "        const buttonEl =\n",
       "          document.querySelector('#df-a83f6416-e018-417d-85e6-9b1566af9309 button.colab-df-convert');\n",
       "        buttonEl.style.display =\n",
       "          google.colab.kernel.accessAllowed ? 'block' : 'none';\n",
       "\n",
       "        async function convertToInteractive(key) {\n",
       "          const element = document.querySelector('#df-a83f6416-e018-417d-85e6-9b1566af9309');\n",
       "          const dataTable =\n",
       "            await google.colab.kernel.invokeFunction('convertToInteractive',\n",
       "                                                     [key], {});\n",
       "          if (!dataTable) return;\n",
       "\n",
       "          const docLinkHtml = 'Like what you see? Visit the ' +\n",
       "            '<a target=\"_blank\" href=https://colab.research.google.com/notebooks/data_table.ipynb>data table notebook</a>'\n",
       "            + ' to learn more about interactive tables.';\n",
       "          element.innerHTML = '';\n",
       "          dataTable['output_type'] = 'display_data';\n",
       "          await google.colab.output.renderOutput(dataTable, element);\n",
       "          const docLink = document.createElement('div');\n",
       "          docLink.innerHTML = docLinkHtml;\n",
       "          element.appendChild(docLink);\n",
       "        }\n",
       "      </script>\n",
       "    </div>\n",
       "  </div>\n",
       "  "
      ],
      "text/plain": [
       "                Quantity  Price per Unit  Final Price  Invoice Month\n",
       "Quantity        1.000000       -0.140637     0.631761      -0.005141\n",
       "Price per Unit -0.140637        1.000000     0.113377      -0.006360\n",
       "Final Price     0.631761        0.113377     1.000000       0.002093\n",
       "Invoice Month  -0.005141       -0.006360     0.002093       1.000000"
      ]
     },
     "execution_count": 71,
     "metadata": {},
     "output_type": "execute_result"
    }
   ],
   "source": [
    "# Correlation\n",
    "numerical.corr()"
   ]
  },
  {
   "cell_type": "code",
   "execution_count": 72,
   "metadata": {
    "colab": {
     "base_uri": "https://localhost:8080/"
    },
    "id": "Yva8rN04memL",
    "outputId": "d79d094f-c2ad-406c-d048-1aee38e221b3"
   },
   "outputs": [
    {
     "name": "stdout",
     "output_type": "stream",
     "text": [
      "0.32351150109984955 55 ('Industry', 'Country')\n",
      "0.3235115010998496 56 ('Industry', 'Unnamed: 12')\n",
      "0.4430799418610891 58 ('Industry', 'Operating Division')\n",
      "0.4430799418610892 59 ('Industry', 'Unnamed: 15')\n",
      "0.3235115010998496 65 ('Country', 'Industry')\n",
      "0.3279429901929419 67 ('Country', 'Distributor')\n",
      "0.3252688976377205 68 ('Country', 'Operating Division')\n",
      "0.3252688976377205 69 ('Country', 'Unnamed: 15')\n",
      "0.3235115010998496 75 ('Unnamed: 12', 'Industry')\n",
      "0.32794299019294193 77 ('Unnamed: 12', 'Distributor')\n",
      "0.3252688976377205 78 ('Unnamed: 12', 'Operating Division')\n",
      "0.3252688976377205 79 ('Unnamed: 12', 'Unnamed: 15')\n",
      "0.3279429901929419 86 ('Distributor', 'Country')\n",
      "0.3279429901929419 87 ('Distributor', 'Unnamed: 12')\n",
      "0.4430799418610892 95 ('Operating Division', 'Industry')\n",
      "0.3252688976377205 96 ('Operating Division', 'Country')\n",
      "0.3252688976377205 97 ('Operating Division', 'Unnamed: 12')\n",
      "0.4430799418610892 105 ('Unnamed: 15', 'Industry')\n",
      "0.3252688976377205 106 ('Unnamed: 15', 'Country')\n",
      "0.3252688976377205 107 ('Unnamed: 15', 'Unnamed: 12')\n"
     ]
    }
   ],
   "source": [
    "# Cramer's V association for categorical features\n",
    "def cramers_v(x, y):\n",
    "    confusion_matrix = pd.crosstab(x,y)\n",
    "    chi2 = chi2_contingency(confusion_matrix)[0]\n",
    "    n = confusion_matrix.sum().sum()\n",
    "    phi2 = chi2/n\n",
    "    r,k = confusion_matrix.shape\n",
    "    phi2corr = max(0, phi2-((k-1)*(r-1))/(n-1))\n",
    "    rcorr = r-((r-1)**2)/(n-1)\n",
    "    kcorr = k-((k-1)**2)/(n-1)\n",
    "    return np.sqrt(phi2corr/min((kcorr-1),(rcorr-1)))\n",
    "chi=[]\n",
    "pair=[]\n",
    "for perm in itertools.permutations(cat.columns, 2):\n",
    "  chi.append(cramers_v(cat[perm[0]], cat[perm[1]]))\n",
    "  pair.append(perm)\n",
    "for i in range(len(chi)):\n",
    "  if abs(chi[i])<=0.5 and abs(chi[i])>0.3:\n",
    "    print(chi[i], i, pair[i])"
   ]
  },
  {
   "cell_type": "code",
   "execution_count": 73,
   "metadata": {
    "id": "Tjp5thWdJ5Ad"
   },
   "outputs": [],
   "source": [
    "df=df.drop(columns=['Alpha Code.1', 'Customer ID', 'Stock Code','Unnamed: 12', 'Unnamed: 15' ])"
   ]
  },
  {
   "cell_type": "markdown",
   "metadata": {
    "id": "lZwd0SYpMmj8"
   },
   "source": [
    "## Customer - visualization"
   ]
  },
  {
   "cell_type": "code",
   "execution_count": 81,
   "metadata": {
    "colab": {
     "base_uri": "https://localhost:8080/"
    },
    "id": "xm_Wk4WpQTmQ",
    "outputId": "2b7d05c1-b089-4666-f5fc-6aa17c60a9b3"
   },
   "outputs": [
    {
     "data": {
      "text/plain": [
       "(195932, 15)"
      ]
     },
     "execution_count": 81,
     "metadata": {},
     "output_type": "execute_result"
    }
   ],
   "source": [
    "df_cut=df[~(df['Invoice Month'] == 8)]\n",
    "df_cut.shape"
   ]
  },
  {
   "cell_type": "code",
   "execution_count": 61,
   "metadata": {
    "colab": {
     "base_uri": "https://localhost:8080/",
     "height": 606
    },
    "id": "q_MizIAvRBjN",
    "outputId": "6a45c14e-d0e0-4fae-edcb-92c4a6d303f5"
   },
   "outputs": [
    {
     "name": "stderr",
     "output_type": "stream",
     "text": [
      "/usr/local/lib/python3.7/dist-packages/ipykernel_launcher.py:2: FutureWarning: Indexing with multiple keys (implicitly converted to a tuple of keys) will be deprecated, use a list instead.\n",
      "  \n"
     ]
    },
    {
     "data": {
      "image/png": "[encoded data removed]",
      "text/plain": [
       "<Figure size 1152x504 with 1 Axes>"
      ]
     },
     "metadata": {},
     "output_type": "display_data"
    }
   ],
   "source": [
    "frame=df_cut[['Month_Year', \"Customer\", 'Invoice']].groupby('Month_Year')['Customer','Invoice'].nunique().reset_index()\n",
    "x=np.arange(0, len(frame.index), 1)\n",
    "y=frame.iloc[:,1:].values\n",
    "\n",
    "plt.style.use('fivethirtyeight')\n",
    "plt.figure(figsize=(16,7))    \n",
    "obj =plt.plot(x,y, linewidth=2, marker='o' )\n",
    "plt.xticks(x, frame.iloc[:,0].values, rotation='horizontal')\n",
    "\n",
    "plt.legend(obj, ('Number of unique customers',  'Number of unique orders'),bbox_to_anchor=(1, 1), loc=8, borderaxespad=1.)\n",
    "y1=[i[0] for i in y]\n",
    "for x_,y_ in zip(x,y1):\n",
    "    plt.annotate(y_, (x_,y_), xytext=(0,10),textcoords=\"offset points\",ha='center')\n",
    "y2=[i[1] for i in y]\n",
    "for x_,y_ in zip(x,y2):\n",
    "    label = \"{:.0f}\".format(y_)\n",
    "    plt.annotate(y_, (x_,y_), xytext=(0,10),textcoords=\"offset points\",ha='center')\n",
    "plt.annotate('Average number of customers {} \\nAverage number of orders {}'.format(np.mean(frame.Customer), np.mean(frame.Invoice)), (0,0), (-80,-50), fontsize=12, \n",
    "             xycoords='axes fraction', textcoords='offset points', va='top')\n",
    "plt.xlabel('Time period(month)', fontsize=14, color='maroon') \n",
    "plt.ylabel('Distinct number', fontsize=14, color='maroon')\n",
    "plt.title('Number of unique customers and orders per month', color='maroon', pad=40)\n",
    "plt.show()"
   ]
  },
  {
   "cell_type": "code",
   "execution_count": 86,
   "metadata": {
    "colab": {
     "base_uri": "https://localhost:8080/"
    },
    "id": "LvCGMHPGivAY",
    "outputId": "1966ef60-6a18-40bd-f963-6f170a06e299"
   },
   "outputs": [
    {
     "data": {
      "text/plain": [
       "(173, 3)"
      ]
     },
     "execution_count": 86,
     "metadata": {},
     "output_type": "execute_result"
    }
   ],
   "source": [
    "# Number of customers with 50% of sales\n",
    "cs=df[['Customer', 'Final Price']].groupby('Customer').sum()\n",
    "cs['ratio']=cs['Final Price'].values/np.sum(cs['Final Price'])*100\n",
    "cs=cs.sort_values(by=['ratio'], ascending=False)\n",
    "cs['cum_sum']=cs['ratio'].cumsum()\n",
    "cs[cs.cum_sum<=50].shape"
   ]
  },
  {
   "cell_type": "code",
   "execution_count": 91,
   "metadata": {
    "colab": {
     "base_uri": "https://localhost:8080/"
    },
    "id": "amgTJQn83lPq",
    "outputId": "5b057d15-8ee5-4495-f2e7-f175dfcbf924"
   },
   "outputs": [
    {
     "data": {
      "text/plain": [
       "(3154, 3)"
      ]
     },
     "execution_count": 91,
     "metadata": {},
     "output_type": "execute_result"
    }
   ],
   "source": [
    "# Total number of customers\n",
    "cs.shape"
   ]
  },
  {
   "cell_type": "code",
   "execution_count": 90,
   "metadata": {
    "colab": {
     "base_uri": "https://localhost:8080/",
     "height": 237
    },
    "id": "tuS5kE6xnwgr",
    "outputId": "2acec897-ddc7-4d98-9512-b4aea679214a"
   },
   "outputs": [
    {
     "data": {
      "text/html": [
       "\n",
       "  <div id=\"df-c6235214-11d8-4587-a436-4632f2b9a891\">\n",
       "    <div class=\"colab-df-container\">\n",
       "      <div>\n",
       "<style scoped>\n",
       "    .dataframe tbody tr th:only-of-type {\n",
       "        vertical-align: middle;\n",
       "    }\n",
       "\n",
       "    .dataframe tbody tr th {\n",
       "        vertical-align: top;\n",
       "    }\n",
       "\n",
       "    .dataframe thead th {\n",
       "        text-align: right;\n",
       "    }\n",
       "</style>\n",
       "<table border=\"1\" class=\"dataframe\">\n",
       "  <thead>\n",
       "    <tr style=\"text-align: right;\">\n",
       "      <th></th>\n",
       "      <th>Final Price</th>\n",
       "      <th>ratio</th>\n",
       "      <th>cum_sum</th>\n",
       "    </tr>\n",
       "    <tr>\n",
       "      <th>Customer</th>\n",
       "      <th></th>\n",
       "      <th></th>\n",
       "      <th></th>\n",
       "    </tr>\n",
       "  </thead>\n",
       "  <tbody>\n",
       "    <tr>\n",
       "      <th>MILITEX B.V.</th>\n",
       "      <td>197453.97</td>\n",
       "      <td>4.111281</td>\n",
       "      <td>4.111281</td>\n",
       "    </tr>\n",
       "    <tr>\n",
       "      <th>TATA STEEL UK LTD</th>\n",
       "      <td>160334.09</td>\n",
       "      <td>3.338391</td>\n",
       "      <td>7.449672</td>\n",
       "    </tr>\n",
       "    <tr>\n",
       "      <th>PowerPak Kereskedelm</th>\n",
       "      <td>89376.40</td>\n",
       "      <td>1.860948</td>\n",
       "      <td>9.310620</td>\n",
       "    </tr>\n",
       "    <tr>\n",
       "      <th>UNILEVER ANDINA BOLI</th>\n",
       "      <td>74742.48</td>\n",
       "      <td>1.556248</td>\n",
       "      <td>10.866868</td>\n",
       "    </tr>\n",
       "    <tr>\n",
       "      <th>Cefak KG</th>\n",
       "      <td>68798.86</td>\n",
       "      <td>1.432493</td>\n",
       "      <td>12.299362</td>\n",
       "    </tr>\n",
       "  </tbody>\n",
       "</table>\n",
       "</div>\n",
       "      <button class=\"colab-df-convert\" onclick=\"convertToInteractive('df-c6235214-11d8-4587-a436-4632f2b9a891')\"\n",
       "              title=\"Convert this dataframe to an interactive table.\"\n",
       "              style=\"display:none;\">\n",
       "        \n",
       "  <svg xmlns=\"http://www.w3.org/2000/svg\" height=\"24px\"viewBox=\"0 0 24 24\"\n",
       "       width=\"24px\">\n",
       "    <path d=\"M0 0h24v24H0V0z\" fill=\"none\"/>\n",
       "    <path d=\"M18.56 5.44l.94 2.06.94-2.06 2.06-.94-2.06-.94-.94-2.06-.94 2.06-2.06.94zm-11 1L8.5 8.5l.94-2.06 2.06-.94-2.06-.94L8.5 2.5l-.94 2.06-2.06.94zm10 10l.94 2.06.94-2.06 2.06-.94-2.06-.94-.94-2.06-.94 2.06-2.06.94z\"/><path d=\"M17.41 7.96l-1.37-1.37c-.4-.4-.92-.59-1.43-.59-.52 0-1.04.2-1.43.59L10.3 9.45l-7.72 7.72c-.78.78-.78 2.05 0 2.83L4 21.41c.39.39.9.59 1.41.59.51 0 1.02-.2 1.41-.59l7.78-7.78 2.81-2.81c.8-.78.8-2.07 0-2.86zM5.41 20L4 18.59l7.72-7.72 1.47 1.35L5.41 20z\"/>\n",
       "  </svg>\n",
       "      </button>\n",
       "      \n",
       "  <style>\n",
       "    .colab-df-container {\n",
       "      display:flex;\n",
       "      flex-wrap:wrap;\n",
       "      gap: 12px;\n",
       "    }\n",
       "\n",
       "    .colab-df-convert {\n",
       "      background-color: #E8F0FE;\n",
       "      border: none;\n",
       "      border-radius: 50%;\n",
       "      cursor: pointer;\n",
       "      display: none;\n",
       "      fill: #1967D2;\n",
       "      height: 32px;\n",
       "      padding: 0 0 0 0;\n",
       "      width: 32px;\n",
       "    }\n",
       "\n",
       "    .colab-df-convert:hover {\n",
       "      background-color: #E2EBFA;\n",
       "      box-shadow: 0px 1px 2px rgba(60, 64, 67, 0.3), 0px 1px 3px 1px rgba(60, 64, 67, 0.15);\n",
       "      fill: #174EA6;\n",
       "    }\n",
       "\n",
       "    [theme=dark] .colab-df-convert {\n",
       "      background-color: #3B4455;\n",
       "      fill: #D2E3FC;\n",
       "    }\n",
       "\n",
       "    [theme=dark] .colab-df-convert:hover {\n",
       "      background-color: #434B5C;\n",
       "      box-shadow: 0px 1px 3px 1px rgba(0, 0, 0, 0.15);\n",
       "      filter: drop-shadow(0px 1px 2px rgba(0, 0, 0, 0.3));\n",
       "      fill: #FFFFFF;\n",
       "    }\n",
       "  </style>\n",
       "\n",
       "      <script>\n",
       "        const buttonEl =\n",
       "          document.querySelector('#df-c6235214-11d8-4587-a436-4632f2b9a891 button.colab-df-convert');\n",
       "        buttonEl.style.display =\n",
       "          google.colab.kernel.accessAllowed ? 'block' : 'none';\n",
       "\n",
       "        async function convertToInteractive(key) {\n",
       "          const element = document.querySelector('#df-c6235214-11d8-4587-a436-4632f2b9a891');\n",
       "          const dataTable =\n",
       "            await google.colab.kernel.invokeFunction('convertToInteractive',\n",
       "                                                     [key], {});\n",
       "          if (!dataTable) return;\n",
       "\n",
       "          const docLinkHtml = 'Like what you see? Visit the ' +\n",
       "            '<a target=\"_blank\" href=https://colab.research.google.com/notebooks/data_table.ipynb>data table notebook</a>'\n",
       "            + ' to learn more about interactive tables.';\n",
       "          element.innerHTML = '';\n",
       "          dataTable['output_type'] = 'display_data';\n",
       "          await google.colab.output.renderOutput(dataTable, element);\n",
       "          const docLink = document.createElement('div');\n",
       "          docLink.innerHTML = docLinkHtml;\n",
       "          element.appendChild(docLink);\n",
       "        }\n",
       "      </script>\n",
       "    </div>\n",
       "  </div>\n",
       "  "
      ],
      "text/plain": [
       "                      Final Price     ratio    cum_sum\n",
       "Customer                                              \n",
       "MILITEX B.V.            197453.97  4.111281   4.111281\n",
       "TATA STEEL UK LTD       160334.09  3.338391   7.449672\n",
       "PowerPak Kereskedelm     89376.40  1.860948   9.310620\n",
       "UNILEVER ANDINA BOLI     74742.48  1.556248  10.866868\n",
       "Cefak KG                 68798.86  1.432493  12.299362"
      ]
     },
     "execution_count": 90,
     "metadata": {},
     "output_type": "execute_result"
    }
   ],
   "source": [
    "cs.head()"
   ]
  },
  {
   "cell_type": "code",
   "execution_count": 74,
   "metadata": {
    "colab": {
     "base_uri": "https://localhost:8080/"
    },
    "id": "CaFLRFWyheCf",
    "outputId": "5f3be574-8856-4108-b0bc-19aa61150e8b"
   },
   "outputs": [
    {
     "data": {
      "text/plain": [
       "4802735.46"
      ]
     },
     "execution_count": 74,
     "metadata": {},
     "output_type": "execute_result"
    }
   ],
   "source": [
    "# Sum of final price - total sales\n",
    "np.sum(cs['Final Price'])"
   ]
  },
  {
   "cell_type": "code",
   "execution_count": 132,
   "metadata": {
    "colab": {
     "base_uri": "https://localhost:8080/"
    },
    "id": "3oRxVL4JRMUe",
    "outputId": "91c943a3-9c29-45bc-c4a0-b32705276f62"
   },
   "outputs": [
    {
     "name": "stdout",
     "output_type": "stream",
     "text": [
      " 173 customers bring 50% of total sales, which is 5.5% from total number of customers in 8 months\n",
      " 696 customers bring 75% of total sales, which is 22.1% from total number of customers in 8 months\n"
     ]
    }
   ],
   "source": [
    "# how many customers bring 75% of sales?\n",
    "print(' {} customers bring 50% of total sales, which is {}% from total number of customers in 8 months'.format(cs[cs.cum_sum<=50].shape[0], round(cs[cs.cum_sum<=50].shape[0]/cs.shape[0]*100, 1)))\n",
    "# how many customers bring 75% of sales?\n",
    "print(' {} customers bring 75% of total sales, which is {}% from total number of customers in 8 months'.format(cs[cs.cum_sum<=75].shape[0], round(cs[cs.cum_sum<=75].shape[0]/cs.shape[0]*100, 1)))"
   ]
  },
  {
   "cell_type": "code",
   "execution_count": 108,
   "metadata": {
    "colab": {
     "base_uri": "https://localhost:8080/"
    },
    "id": "1Jepl-1fJuG4",
    "outputId": "04623673-edd5-4f50-e6a2-9a1b494d23be"
   },
   "outputs": [
    {
     "name": "stdout",
     "output_type": "stream",
     "text": [
      "  Month_Year  Customer  Invoice  orders_per_customer\n",
      "0    2010-12       878     1386             1.578588\n",
      "1    2011-01       731      975             1.333789\n",
      "2    2011-02       753      987             1.310757\n",
      "3    2011-03       969     1306             1.347781\n",
      "4    2011-04       852     1138             1.335681\n",
      "5    2011-05      1048     1537             1.466603\n",
      "6    2011-06       987     1385             1.403242\n",
      "7    2011-07       942     1315             1.395966\n",
      "average orders per customer 1.4 \n",
      "\n",
      "month with the highest number of orders per customer 2010-12 \n",
      "\n"
     ]
    }
   ],
   "source": [
    "# Number of orders per months\n",
    "frame['orders_per_customer']=frame.Invoice.values/frame.Customer.values\n",
    "print(frame.head(8))\n",
    "print('average orders per customer {} \\n'.format(round(np.mean(frame.orders_per_customer),2)))\n",
    "print('month with the highest number of orders per customer {} \\n'.format(frame[frame.orders_per_customer==np.max(frame.orders_per_customer)].Month_Year[0]))"
   ]
  },
  {
   "cell_type": "markdown",
   "metadata": {
    "id": "mSkWvkGpR-D7"
   },
   "source": [
    "### Product"
   ]
  },
  {
   "cell_type": "code",
   "execution_count": 44,
   "metadata": {
    "colab": {
     "base_uri": "https://localhost:8080/",
     "height": 299
    },
    "id": "EO_o_XwD3Oy2",
    "outputId": "3c52ae01-3df3-40e6-be1e-29933717576f"
   },
   "outputs": [
    {
     "data": {
      "text/html": [
       "\n",
       "  <div id=\"df-7767760f-474c-4654-b610-9c60490081b8\">\n",
       "    <div class=\"colab-df-container\">\n",
       "      <div>\n",
       "<style scoped>\n",
       "    .dataframe tbody tr th:only-of-type {\n",
       "        vertical-align: middle;\n",
       "    }\n",
       "\n",
       "    .dataframe tbody tr th {\n",
       "        vertical-align: top;\n",
       "    }\n",
       "\n",
       "    .dataframe thead th {\n",
       "        text-align: right;\n",
       "    }\n",
       "</style>\n",
       "<table border=\"1\" class=\"dataframe\">\n",
       "  <thead>\n",
       "    <tr style=\"text-align: right;\">\n",
       "      <th></th>\n",
       "      <th>Price per Unit</th>\n",
       "    </tr>\n",
       "  </thead>\n",
       "  <tbody>\n",
       "    <tr>\n",
       "      <th>count</th>\n",
       "      <td>3225.000000</td>\n",
       "    </tr>\n",
       "    <tr>\n",
       "      <th>mean</th>\n",
       "      <td>2.890149</td>\n",
       "    </tr>\n",
       "    <tr>\n",
       "      <th>std</th>\n",
       "      <td>2.916333</td>\n",
       "    </tr>\n",
       "    <tr>\n",
       "      <th>min</th>\n",
       "      <td>0.060000</td>\n",
       "    </tr>\n",
       "    <tr>\n",
       "      <th>25%</th>\n",
       "      <td>0.850000</td>\n",
       "    </tr>\n",
       "    <tr>\n",
       "      <th>50%</th>\n",
       "      <td>1.950000</td>\n",
       "    </tr>\n",
       "    <tr>\n",
       "      <th>75%</th>\n",
       "      <td>3.750000</td>\n",
       "    </tr>\n",
       "    <tr>\n",
       "      <th>max</th>\n",
       "      <td>16.950000</td>\n",
       "    </tr>\n",
       "  </tbody>\n",
       "</table>\n",
       "</div>\n",
       "      <button class=\"colab-df-convert\" onclick=\"convertToInteractive('df-7767760f-474c-4654-b610-9c60490081b8')\"\n",
       "              title=\"Convert this dataframe to an interactive table.\"\n",
       "              style=\"display:none;\">\n",
       "        \n",
       "  <svg xmlns=\"http://www.w3.org/2000/svg\" height=\"24px\"viewBox=\"0 0 24 24\"\n",
       "       width=\"24px\">\n",
       "    <path d=\"M0 0h24v24H0V0z\" fill=\"none\"/>\n",
       "    <path d=\"M18.56 5.44l.94 2.06.94-2.06 2.06-.94-2.06-.94-.94-2.06-.94 2.06-2.06.94zm-11 1L8.5 8.5l.94-2.06 2.06-.94-2.06-.94L8.5 2.5l-.94 2.06-2.06.94zm10 10l.94 2.06.94-2.06 2.06-.94-2.06-.94-.94-2.06-.94 2.06-2.06.94z\"/><path d=\"M17.41 7.96l-1.37-1.37c-.4-.4-.92-.59-1.43-.59-.52 0-1.04.2-1.43.59L10.3 9.45l-7.72 7.72c-.78.78-.78 2.05 0 2.83L4 21.41c.39.39.9.59 1.41.59.51 0 1.02-.2 1.41-.59l7.78-7.78 2.81-2.81c.8-.78.8-2.07 0-2.86zM5.41 20L4 18.59l7.72-7.72 1.47 1.35L5.41 20z\"/>\n",
       "  </svg>\n",
       "      </button>\n",
       "      \n",
       "  <style>\n",
       "    .colab-df-container {\n",
       "      display:flex;\n",
       "      flex-wrap:wrap;\n",
       "      gap: 12px;\n",
       "    }\n",
       "\n",
       "    .colab-df-convert {\n",
       "      background-color: #E8F0FE;\n",
       "      border: none;\n",
       "      border-radius: 50%;\n",
       "      cursor: pointer;\n",
       "      display: none;\n",
       "      fill: #1967D2;\n",
       "      height: 32px;\n",
       "      padding: 0 0 0 0;\n",
       "      width: 32px;\n",
       "    }\n",
       "\n",
       "    .colab-df-convert:hover {\n",
       "      background-color: #E2EBFA;\n",
       "      box-shadow: 0px 1px 2px rgba(60, 64, 67, 0.3), 0px 1px 3px 1px rgba(60, 64, 67, 0.15);\n",
       "      fill: #174EA6;\n",
       "    }\n",
       "\n",
       "    [theme=dark] .colab-df-convert {\n",
       "      background-color: #3B4455;\n",
       "      fill: #D2E3FC;\n",
       "    }\n",
       "\n",
       "    [theme=dark] .colab-df-convert:hover {\n",
       "      background-color: #434B5C;\n",
       "      box-shadow: 0px 1px 3px 1px rgba(0, 0, 0, 0.15);\n",
       "      filter: drop-shadow(0px 1px 2px rgba(0, 0, 0, 0.3));\n",
       "      fill: #FFFFFF;\n",
       "    }\n",
       "  </style>\n",
       "\n",
       "      <script>\n",
       "        const buttonEl =\n",
       "          document.querySelector('#df-7767760f-474c-4654-b610-9c60490081b8 button.colab-df-convert');\n",
       "        buttonEl.style.display =\n",
       "          google.colab.kernel.accessAllowed ? 'block' : 'none';\n",
       "\n",
       "        async function convertToInteractive(key) {\n",
       "          const element = document.querySelector('#df-7767760f-474c-4654-b610-9c60490081b8');\n",
       "          const dataTable =\n",
       "            await google.colab.kernel.invokeFunction('convertToInteractive',\n",
       "                                                     [key], {});\n",
       "          if (!dataTable) return;\n",
       "\n",
       "          const docLinkHtml = 'Like what you see? Visit the ' +\n",
       "            '<a target=\"_blank\" href=https://colab.research.google.com/notebooks/data_table.ipynb>data table notebook</a>'\n",
       "            + ' to learn more about interactive tables.';\n",
       "          element.innerHTML = '';\n",
       "          dataTable['output_type'] = 'display_data';\n",
       "          await google.colab.output.renderOutput(dataTable, element);\n",
       "          const docLink = document.createElement('div');\n",
       "          docLink.innerHTML = docLinkHtml;\n",
       "          element.appendChild(docLink);\n",
       "        }\n",
       "      </script>\n",
       "    </div>\n",
       "  </div>\n",
       "  "
      ],
      "text/plain": [
       "       Price per Unit\n",
       "count     3225.000000\n",
       "mean         2.890149\n",
       "std          2.916333\n",
       "min          0.060000\n",
       "25%          0.850000\n",
       "50%          1.950000\n",
       "75%          3.750000\n",
       "max         16.950000"
      ]
     },
     "execution_count": 44,
     "metadata": {},
     "output_type": "execute_result"
    }
   ],
   "source": [
    "#price per unit\n",
    "f=df[['Sales Product', 'Price per Unit']].groupby('Sales Product').mean()\n",
    "f.describe()"
   ]
  },
  {
   "cell_type": "code",
   "execution_count": 74,
   "metadata": {
    "colab": {
     "base_uri": "https://localhost:8080/"
    },
    "id": "KqawJW7U8Kyr",
    "outputId": "6acda599-877d-41d5-d48c-ae7c0f449f20"
   },
   "outputs": [
    {
     "data": {
      "text/plain": [
       "Sales Product\n",
       "OASE WHITE ENRICHED    1297\n",
       "E A C 70 A 10HPM000    1109\n",
       "Name: Invoice, dtype: int64"
      ]
     },
     "execution_count": 74,
     "metadata": {},
     "output_type": "execute_result"
    }
   ],
   "source": [
    "l=df[['Invoice', 'Sales Product', 'Quantity', 'Final Price']].groupby('Sales Product')['Invoice'].nunique()\n",
    "l.sort_values( ascending=False).head(2)"
   ]
  },
  {
   "cell_type": "code",
   "execution_count": 75,
   "metadata": {
    "colab": {
     "base_uri": "https://localhost:8080/"
    },
    "id": "nRFYSE4d7ve5",
    "outputId": "675b4fbe-756c-45b6-bbf4-4dcc581e265b"
   },
   "outputs": [
    {
     "data": {
      "text/plain": [
       "Sales Product\n",
       "DEMELAN 1990           24466\n",
       "OASE WHITE ENRICHED    21560\n",
       "Name: Quantity, dtype: int64"
      ]
     },
     "execution_count": 75,
     "metadata": {},
     "output_type": "execute_result"
    }
   ],
   "source": [
    "l=df[['Invoice', 'Sales Product', 'Quantity', 'Final Price']].groupby('Sales Product')['Quantity'].sum()\n",
    "l.sort_values( ascending=False).head(2)"
   ]
  },
  {
   "cell_type": "code",
   "execution_count": 76,
   "metadata": {
    "colab": {
     "base_uri": "https://localhost:8080/"
    },
    "id": "1BPfUVox6H0y",
    "outputId": "0dde4c4c-cb47-451a-9628-8068ac74ddfb"
   },
   "outputs": [
    {
     "data": {
      "text/plain": [
       "Sales Product\n",
       "E A C 70 A 10HPM000    1109\n",
       "CUTINA SHINE            978\n",
       "Name: Invoice, dtype: int64"
      ]
     },
     "execution_count": 76,
     "metadata": {},
     "output_type": "execute_result"
    }
   ],
   "source": [
    "l=df[['Invoice', 'Sales Product', 'Quantity', 'Final Price']].groupby('Sales Product')['Invoice'].nunique()\n",
    "l=l[l.index.isin(f[f['Price per Unit']>3.75].index)]\n",
    "l.sort_values( ascending=False).head(2)"
   ]
  },
  {
   "cell_type": "code",
   "execution_count": 77,
   "metadata": {
    "colab": {
     "base_uri": "https://localhost:8080/"
    },
    "id": "tFtgMvQb661f",
    "outputId": "d654f344-91b4-4ffc-b6c5-eb49c01ccdc8"
   },
   "outputs": [
    {
     "data": {
      "text/plain": [
       "Sales Product\n",
       "CUTINA SHINE           11677\n",
       "E A C 70 A 10HPM000     8680\n",
       "Name: Quantity, dtype: int64"
      ]
     },
     "execution_count": 77,
     "metadata": {},
     "output_type": "execute_result"
    }
   ],
   "source": [
    "l=df[['Invoice', 'Sales Product', 'Quantity', 'Final Price']].groupby('Sales Product')['Quantity'].sum()\n",
    "l=l[l.index.isin(f[f['Price per Unit']>3.75].index)]\n",
    "l.sort_values( ascending=False).head(2)"
   ]
  },
  {
   "cell_type": "code",
   "execution_count": 78,
   "metadata": {
    "colab": {
     "base_uri": "https://localhost:8080/"
    },
    "id": "TGebc11s4B1I",
    "outputId": "67b97398-bc51-4a6c-dee7-59bf8dbc7b34"
   },
   "outputs": [
    {
     "data": {
      "text/plain": [
       "Sales Product\n",
       "N,N-DIMETHYLACETAMID    654\n",
       "ULT.A3HG7 LS BK23189    422\n",
       "Name: Invoice, dtype: int64"
      ]
     },
     "execution_count": 78,
     "metadata": {},
     "output_type": "execute_result"
    }
   ],
   "source": [
    "l=df[['Invoice', 'Sales Product', 'Quantity', 'Final Price']].groupby('Sales Product')['Invoice'].nunique()\n",
    "l=l[l.index.isin(f[f['Price per Unit']<0.85].index)]\n",
    "l.sort_values( ascending=False).head(2)"
   ]
  },
  {
   "cell_type": "code",
   "execution_count": 79,
   "metadata": {
    "colab": {
     "base_uri": "https://localhost:8080/"
    },
    "id": "jsEuaUFk4il5",
    "outputId": "c9f31c28-e585-4128-d7f4-4741b828d6f5"
   },
   "outputs": [
    {
     "data": {
      "text/plain": [
       "Sales Product\n",
       "LUPRANOL 2074           20788\n",
       "N,N-DIMETHYLACETAMID    20397\n",
       "Name: Quantity, dtype: int64"
      ]
     },
     "execution_count": 79,
     "metadata": {},
     "output_type": "execute_result"
    }
   ],
   "source": [
    "l=df[['Invoice', 'Sales Product', 'Quantity', 'Final Price']].groupby('Sales Product')['Quantity'].sum()\n",
    "l=l[l.index.isin(f[f['Price per Unit']<0.85].index)]\n",
    "l.sort_values( ascending=False).head(2)"
   ]
  },
  {
   "cell_type": "code",
   "execution_count": 89,
   "metadata": {
    "colab": {
     "base_uri": "https://localhost:8080/",
     "height": 571
    },
    "id": "BKEIxLNnV6zP",
    "outputId": "bca97c78-ef8a-4a72-b5d0-2f37d07780ee"
   },
   "outputs": [
    {
     "data": {
      "image/png": "[encoded data removed]",
      "text/plain": [
       "<Figure size 1152x504 with 1 Axes>"
      ]
     },
     "metadata": {},
     "output_type": "display_data"
    }
   ],
   "source": [
    "frame=df_cut[['Month_Year', \"Final Price\"]].groupby('Month_Year')['Final Price'].sum().reset_index()\n",
    "x=np.arange(0, len(frame.index), 1)\n",
    "y=frame.iloc[:,1].values\n",
    "\n",
    "plt.style.use('fivethirtyeight')\n",
    "plt.figure(figsize=(16,7))    \n",
    "obj =plt.plot(x,y, linewidth=2, marker='o' )\n",
    "plt.xticks(x, frame.iloc[:,0].values, rotation='horizontal')\n",
    "plt.legend(obj, ('Time period (months)'),bbox_to_anchor=(1, 1), loc=8, borderaxespad=1.)\n",
    "for x_,y_ in zip(x,y):\n",
    "    plt.annotate(y_, (x_,y_), xytext=(0,10),textcoords=\"offset points\",ha='center')\n",
    "plt.annotate('Average sales per month {} \\nTotal sales in all observed period {}'.format(round(np.mean(frame['Final Price'])), round(np.sum(frame['Final Price']))), (0,0), (-80,-50), fontsize=12, \n",
    "            xycoords='axes fraction', textcoords='offset points', va='top')\n",
    "plt.xlabel('Time period(month)', fontsize=14, color='maroon') \n",
    "plt.ylabel('currency', fontsize=14, color='maroon')\n",
    "plt.title('Total sales per month', color='maroon', pad=40)\n",
    "plt.show()"
   ]
  },
  {
   "cell_type": "code",
   "execution_count": 86,
   "metadata": {
    "colab": {
     "base_uri": "https://localhost:8080/"
    },
    "id": "GegVugoQWtvR",
    "outputId": "56fe0a8d-05d6-4215-e5fb-27616629980f"
   },
   "outputs": [
    {
     "data": {
      "text/plain": [
       "4677988.6899999995"
      ]
     },
     "execution_count": 86,
     "metadata": {},
     "output_type": "execute_result"
    }
   ],
   "source": [
    "df_cut[['Month_Year', \"Final Price\"]].groupby('Month_Year')['Final Price'].sum().sum()"
   ]
  }
 ],
 "metadata": {
  "colab": {
   "name": "Project DataSet Student Grades-Port-Ready-target10.ipynb",
   "provenance": []
  },
  "kernelspec": {
   "display_name": "Python 3",
   "language": "python",
   "name": "python3"
  },
  "language_info": {
   "codemirror_mode": {
    "name": "ipython",
    "version": 3
   },
   "file_extension": ".py",
   "mimetype": "text/x-python",
   "name": "python",
   "nbconvert_exporter": "python",
   "pygments_lexer": "ipython3",
   "version": "3.7.4"
  }
 },
 "nbformat": 4,
 "nbformat_minor": 1
}
